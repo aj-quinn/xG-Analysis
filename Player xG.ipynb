{
 "cells": [
  {
   "cell_type": "code",
   "execution_count": 13,
   "metadata": {},
   "outputs": [],
   "source": [
    "import numpy as np\n",
    "import pandas as pd"
   ]
  },
  {
   "cell_type": "code",
   "execution_count": 14,
   "metadata": {},
   "outputs": [],
   "source": [
    "urls = ['https://fbref.com/en/comps/Big5/2022-2023/shooting/players/2022-2023-Big-5-European-Leagues-Stats'\n",
    "       'https://fbref.com/en/comps/Big5/2021-2022/shooting/players/2021-2022-Big-5-European-Leagues-Stats',\n",
    "       'https://fbref.com/en/comps/Big5/2020-2021/shooting/players/2020-2021-Big-5-European-Leagues-Stats',\n",
    "       'https://fbref.com/en/comps/Big5/2019-2020/shooting/players/2019-2020-Big-5-European-Leagues-Stats',\n",
    "       'https://fbref.com/en/comps/Big5/2018-2019/shooting/players/2018-2019-Big-5-European-Leagues-Stats',\n",
    "       'https://fbref.com/en/comps/Big5/2017-2018/shooting/players/2017-2018-Big-5-European-Leagues-Stats']"
   ]
  },
  {
   "cell_type": "code",
   "execution_count": null,
   "metadata": {},
   "outputs": [],
   "source": [
    "xG_df = pd.DataFrame()\n",
    "\n",
    "for url in urls:\n",
    "    df = pd.read_html(url)[0]\n",
    "    df.columns = [' '.join(col).strip() for col in df.columns]\n",
    "    df = df.reset_index(drop=True)\n",
    "    \n",
    "    #data manipultation\n",
    "    new_columns = []\n",
    "    for col in df.columns:\n",
    "      if 'level_0' in col:\n",
    "          new_col = col.split()[-1]  # takes the last name\n",
    "      else:\n",
    "          new_col = col\n",
    "      new_columns.append(new_col)\n",
    "\n",
    "    # rename columns\n",
    "    df.columns = new_columns\n",
    "    df = df.fillna(0)\n",
    "    \n",
    "    df.columns = df.columns.str.replace('Standard ', '')\n",
    "    df.columns = df.columns.str.replace('Expected ', '')\n",
    "\n",
    "    df['Year'] = url[url.find(\"players/\")+8 : url.find(\"players/\")+17]\n",
    "    df['Age'] = df['Age'].str[:2]\n",
    "    df['Position'] = df['Pos'].str[:2]\n",
    "    df['Position_2'] = df['Pos'].str[3:]\n",
    "    df['Nation'] = df['Nation'].str.split(' ').str.get(1)\n",
    "    df['League'] = df['Comp'].str.split(' ').str.get(1)\n",
    "    df['League_'] = df['Comp'].str.split(' ').str.get(2)\n",
    "    df['League'] = df['League'] + ' ' + df['League_']\n",
    "    df = df.drop(columns=['Rk', 'Comp', 'Rk', 'Pos','Matches', 'League_'])\n",
    "    df['Position'] = df['Position'].replace({'MF': 'Midfielder', \n",
    "                                             'DF': 'Defender', \n",
    "                                             'FW': 'Forward', \n",
    "                                             'GK': 'Goalkeeper'})\n",
    "    df['Position_2'] = df['Position_2'].replace({'MF': 'Midfielder', \n",
    "                                                 'DF': 'Defender',\n",
    "                                                 'FW': 'Forward', \n",
    "                                                 'GK': 'Goalkeeper'})\n",
    "    df['League'] = df['League'].fillna('Bundesliga')\n",
    "    \n",
    "    xG_df = xG_df.append(df)"
   ]
  },
  {
   "cell_type": "code",
   "execution_count": null,
   "metadata": {},
   "outputs": [],
   "source": [
    "xG_df = xG_df[xG_df['Age'] != 'Ag']\n",
    "xG_df = xG_df[xG_df['Position'] != 'Goalkeeper']"
   ]
  },
  {
   "cell_type": "code",
   "execution_count": null,
   "metadata": {},
   "outputs": [],
   "source": [
    "xG_df[['Age', 'Born', '90s', 'Gls', 'Sh', 'SoT', 'SoT%', 'Sh/90', 'SoT/90', 'G/Sh', 'G/SoT', 'Dist', 'FK', 'PK', 'PKatt', \n",
    "       'xG', 'npxG', 'npxG/Sh', 'G-xG', 'np:G-xG']] = xG_df[['Age', 'Born', '90s', 'Gls', 'Sh', 'SoT', 'SoT%', 'Sh/90','SoT/90',\n",
    "                                                             'G/Sh', 'G/SoT', 'Dist', 'FK', 'PK', 'PKatt', 'xG', 'npxG', \n",
    "                                                             'npxG/Sh', 'G-xG', 'np:G-xG']].apply(pd.to_numeric) "
   ]
  },
  {
   "cell_type": "code",
   "execution_count": null,
   "metadata": {},
   "outputs": [],
   "source": [
    "league_games = {'League': ['Premier League', 'Bundesliga', 'La Liga', 'Serie A', 'Ligue 1'], 'Games': [38, 36, 38, 38, 38]}\n",
    "\n",
    "league_games_df = pd.DataFrame(league_games)"
   ]
  },
  {
   "cell_type": "code",
   "execution_count": null,
   "metadata": {},
   "outputs": [],
   "source": [
    "xG_df = xG_df.join(league_games_df.set_index('League'), on='League')\n"
   ]
  },
  {
   "cell_type": "code",
   "execution_count": null,
   "metadata": {},
   "outputs": [],
   "source": [
    "xG_df['Cutoff']=0.3*xG_df['Games']\n",
    "xG_df['Qualifying'] = np.where(xG_df['90s'] >= xG_df['Cutoff'], 1, 0)"
   ]
  },
  {
   "cell_type": "code",
   "execution_count": null,
   "metadata": {},
   "outputs": [],
   "source": [
    "xG_df[xG_df['Qualifying']==1]"
   ]
  },
  {
   "cell_type": "code",
   "execution_count": null,
   "metadata": {},
   "outputs": [],
   "source": [
    "xG_df.sort_values(by=['np:G-xG'])"
   ]
  },
  {
   "cell_type": "code",
   "execution_count": null,
   "metadata": {},
   "outputs": [],
   "source": []
  }
 ],
 "metadata": {
  "kernelspec": {
   "display_name": "Python 3",
   "language": "python",
   "name": "python3"
  },
  "language_info": {
   "codemirror_mode": {
    "name": "ipython",
    "version": 3
   },
   "file_extension": ".py",
   "mimetype": "text/x-python",
   "name": "python",
   "nbconvert_exporter": "python",
   "pygments_lexer": "ipython3",
   "version": "3.8.3"
  }
 },
 "nbformat": 4,
 "nbformat_minor": 4
}
